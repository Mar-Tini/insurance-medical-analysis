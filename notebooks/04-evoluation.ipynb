{
 "cells": [
  {
   "cell_type": "code",
   "execution_count": 1,
   "id": "9c243b87",
   "metadata": {},
   "outputs": [],
   "source": [
    "import init_notebooks\n",
    "from data_loader import load_data\n",
    "from evaluate_model import Evaluate_Model\n",
    "X_train, X_test, y_train, y_test = load_data()"
   ]
  },
  {
   "cell_type": "code",
   "execution_count": 2,
   "id": "8ad0c23b",
   "metadata": {},
   "outputs": [
    {
     "name": "stdout",
     "output_type": "stream",
     "text": [
      "Fitting 5 folds for each of 324 candidates, totalling 1620 fits\n",
      "Meilleurs paramètres : {'model__colsample_bytree': 1.0, 'model__learning_rate': 0.01, 'model__max_depth': 3, 'model__n_estimators': 500, 'model__subsample': 1.0}\n",
      "Meilleur R² en validation croisée : 0.8594482421875\n"
     ]
    }
   ],
   "source": [
    "import joblib\n",
    "\n",
    "evaluation = Evaluate_Model()\n",
    "\n",
    "preprocessor = joblib.load(\"../preprocessor/preprocessor.pkl\")\n",
    "\n",
    "best_model = evaluation.evaluation_model(X_test, y_test, preprocessor)"
   ]
  },
  {
   "cell_type": "markdown",
   "id": "9e561cbd",
   "metadata": {},
   "source": [
    "Cette étape sert à trouver les meilleurs réglages du modèle XGBoost.\n",
    "\n",
    "Cela permet au modèle de mieux s’adapter aux nouvelles données et d’avoir de bonnes performances sur le jeu de test.\n",
    "\n",
    "Prépare le modèle pour l’entraînement final et pour l’utiliser ensuite en pratique."
   ]
  },
  {
   "cell_type": "code",
   "execution_count": 5,
   "id": "3637d797",
   "metadata": {},
   "outputs": [
    {
     "name": "stdout",
     "output_type": "stream",
     "text": [
      "Prediction: 0.9240922331809998\n",
      "Test MSE: 11784586.0\n",
      "Test R²: 0.9240922331809998\n"
     ]
    }
   ],
   "source": [
    "from sklearn.metrics import mean_squared_error, r2_score\n",
    "\n",
    "y_pred = best_model.predict(X_test)\n",
    "print(\"Prediction:\", best_model.score(X_test, y_test))\n",
    "print(\"Test MSE:\", mean_squared_error(y_test, y_pred))\n",
    "print(\"Test R²:\", r2_score(y_test, y_pred))\n"
   ]
  },
  {
   "cell_type": "markdown",
   "id": "849b73b3",
   "metadata": {},
   "source": [
    "le modèle explique environ 92 % de la variance des charges.\n",
    "\n",
    "R² élevé et MSE relativement faible, modèle robuste et fiable pour ce dataset.\n",
    "\n",
    "Étape finale avant sauvegarde ou utilisation en production"
   ]
  },
  {
   "cell_type": "code",
   "execution_count": 6,
   "id": "ae05164b",
   "metadata": {},
   "outputs": [
    {
     "data": {
      "text/plain": [
       "['../models/best_rf_model.pkl']"
      ]
     },
     "execution_count": 6,
     "metadata": {},
     "output_type": "execute_result"
    }
   ],
   "source": [
    "import joblib\n",
    "joblib.dump(best_model, \"../models/best_rf_model.pkl\")"
   ]
  },
  {
   "cell_type": "markdown",
   "id": "aa05f319",
   "metadata": {},
   "source": [
    "Sauvegarde le meilleur modèle (best_model) dans un fichier .pkl\n",
    "\n",
    "Permet de réutiliser le modèle plus tard sans le réentraîner, pour prédictions ou déploiement\n"
   ]
  }
 ],
 "metadata": {
  "kernelspec": {
   "display_name": "base",
   "language": "python",
   "name": "python3"
  },
  "language_info": {
   "codemirror_mode": {
    "name": "ipython",
    "version": 3
   },
   "file_extension": ".py",
   "mimetype": "text/x-python",
   "name": "python",
   "nbconvert_exporter": "python",
   "pygments_lexer": "ipython3",
   "version": "3.12.7"
  }
 },
 "nbformat": 4,
 "nbformat_minor": 5
}
