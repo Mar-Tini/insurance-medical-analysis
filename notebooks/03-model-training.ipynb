{
 "cells": [
  {
   "cell_type": "code",
   "execution_count": 10,
   "id": "7673ea14",
   "metadata": {},
   "outputs": [],
   "source": [
    "import init_notebooks\n",
    "from data_loader import load_data\n",
    "from train_model import Train_Model\n",
    "\n",
    "X_train, X_test, y_train, y_test = load_data()"
   ]
  },
  {
   "cell_type": "code",
   "execution_count": 11,
   "id": "3d33be99",
   "metadata": {},
   "outputs": [],
   "source": [
    "train = Train_Model()"
   ]
  },
  {
   "cell_type": "code",
   "execution_count": 12,
   "id": "357489fd",
   "metadata": {},
   "outputs": [],
   "source": [
    "models = train.models()"
   ]
  },
  {
   "cell_type": "markdown",
   "id": "88516bd1",
   "metadata": {},
   "source": [
    "Prépare tous les modèles de régression que tu veux tester sur ton dataset.\n",
    "\n",
    "Paramètres choisis pour équilibre entre performance et overfitting.\n",
    "\n",
    "Permet d’avoir un pipeline clair pour entraîner, évaluer et comparer plusieurs modèles rapidement."
   ]
  },
  {
   "cell_type": "code",
   "execution_count": 13,
   "id": "6d6090de",
   "metadata": {},
   "outputs": [
    {
     "name": "stdout",
     "output_type": "stream",
     "text": [
      "                           MSE        R2\n",
      "LinearRegression  3.397926e+07  0.781130\n",
      "Ridge             3.401915e+07  0.780873\n",
      "Lasso             3.397956e+07  0.781128\n",
      "RandomForest      2.203743e+07  0.858051\n",
      "SVR               1.662463e+08 -0.070838\n",
      "GradientBoosting  1.968366e+07  0.873212\n",
      "XGBoost           1.894900e+07  0.877944\n"
     ]
    }
   ],
   "source": [
    "train.select_model(models, X_train, y_train, X_test, y_test)"
   ]
  },
  {
   "cell_type": "markdown",
   "id": "ed0251d6",
   "metadata": {},
   "source": [
    "Évalue tous les modèles définis précédemment sur le même dataset.\n",
    "\n",
    "Utilise un pipeline pour appliquer le préprocessing automatiquement.\n",
    "\n",
    "Calcule MSE et R² pour comparer les performances. \n",
    "\n",
    "Choix du meilleur modèle : XGBoost , meilleur compromis MSE faible et R² élevé."
   ]
  },
  {
   "cell_type": "code",
   "execution_count": 14,
   "id": "94b4d8c1",
   "metadata": {},
   "outputs": [
    {
     "data": {
      "text/plain": [
       "['../models/best_model.pkl']"
      ]
     },
     "execution_count": 14,
     "metadata": {},
     "output_type": "execute_result"
    }
   ],
   "source": [
    "import joblib\n",
    "from sklearn.pipeline import Pipeline\n",
    "from xgboost import XGBRegressor\n",
    "\n",
    "preprocessor = joblib.load(\"../preprocessor/preprocessor.pkl\")\n",
    "\n",
    "pipe = Pipeline(steps=[\n",
    "    (\"preprocess\", preprocessor),       \n",
    "     (\"model\", XGBRegressor(\n",
    "        n_estimators=200,\n",
    "        learning_rate=0.1,\n",
    "        max_depth=3,\n",
    "        random_state=42\n",
    "    ))\n",
    "])\n",
    "\n",
    "\n",
    "pipe.fit(X_train, y_train)\n",
    "\n",
    "\n",
    "joblib.dump(pipe, \"../models/best_model.pkl\")"
   ]
  },
  {
   "cell_type": "markdown",
   "id": "d72269e3",
   "metadata": {},
   "source": [
    "Prépare un pipeline prêt à la production : préprocessing + modèle.\n",
    "\n",
    "Entraîne le meilleur modèle identifié (XGBoost).\n",
    "\n",
    "Sauvegarde le pipeline pour prédictions futures sans refaire le preprocessing."
   ]
  },
  {
   "cell_type": "code",
   "execution_count": 15,
   "id": "cb983aa8",
   "metadata": {},
   "outputs": [
    {
     "data": {
      "text/plain": [
       "0.87794429063797"
      ]
     },
     "execution_count": 15,
     "metadata": {},
     "output_type": "execute_result"
    }
   ],
   "source": [
    "loaded_model = joblib.load(\"../models/best_model.pkl\")\n",
    "\n",
    "loaded_model.score(X_test, y_test) \n"
   ]
  },
  {
   "cell_type": "markdown",
   "id": "247dd89f",
   "metadata": {},
   "source": [
    "le modèle explique environ 87 % de la variance des charges médicales"
   ]
  }
 ],
 "metadata": {
  "kernelspec": {
   "display_name": "base",
   "language": "python",
   "name": "python3"
  },
  "language_info": {
   "codemirror_mode": {
    "name": "ipython",
    "version": 3
   },
   "file_extension": ".py",
   "mimetype": "text/x-python",
   "name": "python",
   "nbconvert_exporter": "python",
   "pygments_lexer": "ipython3",
   "version": "3.12.7"
  }
 },
 "nbformat": 4,
 "nbformat_minor": 5
}
