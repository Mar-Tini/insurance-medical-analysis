{
 "cells": [
  {
   "cell_type": "code",
   "execution_count": 112,
   "id": "56311a4b",
   "metadata": {},
   "outputs": [],
   "source": [
    "import pandas as pd \n",
    "import matplotlib.pyplot as plt\n",
    "import seaborn as sns \n",
    "\n",
    "import init_notebooks \n",
    "from  data_preprocessing import Preprocessing"
   ]
  },
  {
   "cell_type": "code",
   "execution_count": 113,
   "id": "7014a464",
   "metadata": {},
   "outputs": [],
   "source": [
    "data = pd.read_csv('../data/raw/insurance.csv')\n",
    "\n",
    "insurance = data.copy()"
   ]
  },
  {
   "cell_type": "code",
   "execution_count": 114,
   "id": "68e34645",
   "metadata": {},
   "outputs": [
    {
     "data": {
      "text/html": [
       "<div>\n",
       "<style scoped>\n",
       "    .dataframe tbody tr th:only-of-type {\n",
       "        vertical-align: middle;\n",
       "    }\n",
       "\n",
       "    .dataframe tbody tr th {\n",
       "        vertical-align: top;\n",
       "    }\n",
       "\n",
       "    .dataframe thead th {\n",
       "        text-align: right;\n",
       "    }\n",
       "</style>\n",
       "<table border=\"1\" class=\"dataframe\">\n",
       "  <thead>\n",
       "    <tr style=\"text-align: right;\">\n",
       "      <th></th>\n",
       "      <th>age</th>\n",
       "      <th>sex</th>\n",
       "      <th>bmi</th>\n",
       "      <th>children</th>\n",
       "      <th>smoker</th>\n",
       "      <th>region</th>\n",
       "      <th>charges</th>\n",
       "    </tr>\n",
       "  </thead>\n",
       "  <tbody>\n",
       "    <tr>\n",
       "      <th>0</th>\n",
       "      <td>19</td>\n",
       "      <td>female</td>\n",
       "      <td>27.900</td>\n",
       "      <td>0</td>\n",
       "      <td>yes</td>\n",
       "      <td>southwest</td>\n",
       "      <td>16884.92400</td>\n",
       "    </tr>\n",
       "    <tr>\n",
       "      <th>1</th>\n",
       "      <td>18</td>\n",
       "      <td>male</td>\n",
       "      <td>33.770</td>\n",
       "      <td>1</td>\n",
       "      <td>no</td>\n",
       "      <td>southeast</td>\n",
       "      <td>1725.55230</td>\n",
       "    </tr>\n",
       "    <tr>\n",
       "      <th>2</th>\n",
       "      <td>28</td>\n",
       "      <td>male</td>\n",
       "      <td>33.000</td>\n",
       "      <td>3</td>\n",
       "      <td>no</td>\n",
       "      <td>southeast</td>\n",
       "      <td>4449.46200</td>\n",
       "    </tr>\n",
       "    <tr>\n",
       "      <th>3</th>\n",
       "      <td>33</td>\n",
       "      <td>male</td>\n",
       "      <td>22.705</td>\n",
       "      <td>0</td>\n",
       "      <td>no</td>\n",
       "      <td>northwest</td>\n",
       "      <td>21984.47061</td>\n",
       "    </tr>\n",
       "    <tr>\n",
       "      <th>4</th>\n",
       "      <td>32</td>\n",
       "      <td>male</td>\n",
       "      <td>28.880</td>\n",
       "      <td>0</td>\n",
       "      <td>no</td>\n",
       "      <td>northwest</td>\n",
       "      <td>3866.85520</td>\n",
       "    </tr>\n",
       "  </tbody>\n",
       "</table>\n",
       "</div>"
      ],
      "text/plain": [
       "   age     sex     bmi  children smoker     region      charges\n",
       "0   19  female  27.900         0    yes  southwest  16884.92400\n",
       "1   18    male  33.770         1     no  southeast   1725.55230\n",
       "2   28    male  33.000         3     no  southeast   4449.46200\n",
       "3   33    male  22.705         0     no  northwest  21984.47061\n",
       "4   32    male  28.880         0     no  northwest   3866.85520"
      ]
     },
     "execution_count": 114,
     "metadata": {},
     "output_type": "execute_result"
    }
   ],
   "source": [
    "insurance.head()"
   ]
  },
  {
   "cell_type": "markdown",
   "id": "9bb6d18e",
   "metadata": {},
   "source": [
    "Affiche les 5 premières lignes du DataFrame insurance."
   ]
  },
  {
   "cell_type": "code",
   "execution_count": 115,
   "id": "0e4f49b8",
   "metadata": {},
   "outputs": [],
   "source": [
    "insurance_preprocessing = Preprocessing(insurance)"
   ]
  },
  {
   "cell_type": "markdown",
   "id": "81d7dba4",
   "metadata": {},
   "source": [
    "Cette partie met en place les imports nécessaires pour l’encodage et la standardisation.\n",
    "\n",
    "classe Preprocessing qui va contenir les méthodes pour transformer les données."
   ]
  },
  {
   "cell_type": "code",
   "execution_count": 116,
   "id": "cfb5e7e0",
   "metadata": {},
   "outputs": [
    {
     "name": "stdout",
     "output_type": "stream",
     "text": [
      "Preprocessor : ../preprocessor/preprocessor.pkl\n"
     ]
    }
   ],
   "source": [
    "continuous = [\"age\", \"bmi\"]\n",
    "categorical = [\"sex\", \"smoker\"]\n",
    "count_var = [\"children\"]\n",
    "\n",
    "insurance_preprocessing.column_preprocessing(continuous, categorical, count_var)"
   ]
  },
  {
   "cell_type": "markdown",
   "id": "1a7a40e3",
   "metadata": {},
   "source": [
    "cette méthode (column_preprocessing) prépare un pipeline de transformation des colonnes selon leur type, l’entraîne sur les \n",
    "\n",
    "données, puis le sauvegarde pour être réutilisé plus tard (modélisation, prédiction)"
   ]
  },
  {
   "cell_type": "code",
   "execution_count": 117,
   "id": "61d4feb6",
   "metadata": {},
   "outputs": [
    {
     "name": "stdout",
     "output_type": "stream",
     "text": [
      "Features  Variables:\n",
      "        age       bmi  sex  smoker  children\n",
      "0 -1.438764 -0.453320  0.0     1.0       0.0\n",
      "1 -1.509965  0.509621  1.0     0.0       1.0\n",
      "2 -0.797954  0.383307  1.0     0.0       3.0\n",
      "3 -0.441948 -1.305531  1.0     0.0       0.0\n",
      "4 -0.513149 -0.292556  1.0     0.0       0.0\n",
      "\n",
      " Target Variable : charges\n",
      "0    16884.92400\n",
      "1     1725.55230\n",
      "2     4449.46200\n",
      "3    21984.47061\n",
      "4     3866.85520\n",
      "Name: charges, dtype: float64\n"
     ]
    }
   ],
   "source": [
    "\n",
    "import pandas as pd\n",
    "import joblib\n",
    "\n",
    "features =  insurance.drop([\"region\", \"charges\"], axis=1).columns.tolist()\n",
    "target = insurance[\"charges\"].name\n",
    "\n",
    "\n",
    "preprocessor = joblib.load(\"../preprocessor/preprocessor.pkl\")\n",
    "\n",
    "\n",
    "X_transformed = preprocessor.transform(insurance[features])\n",
    "\n",
    "\n",
    "feature_names = preprocessor.get_feature_names_out()\n",
    "X_transformed = pd.DataFrame(X_transformed, columns=feature_names)\n",
    "\n",
    "rename_map = {\n",
    "    \"num__age\": \"age\",\n",
    "    \"num__bmi\": \"bmi\",\n",
    "    \"cat__sex\": \"sex\",\n",
    "    \"cat__smoker\": \"smoker\",\n",
    "    \"count__children\": \"children\",\n",
    "}\n",
    "\n",
    "X_transformed.rename(columns=rename_map, inplace=True)\n",
    "y = insurance[target]\n",
    "\n",
    "print(\"Features  Variables:\")\n",
    "print(X_transformed.head().to_string())\n",
    "\n",
    "print(\"\\n Target Variable : charges\")\n",
    "print(y.head())\n"
   ]
  },
  {
   "cell_type": "markdown",
   "id": "194fc220",
   "metadata": {},
   "source": [
    "Sépare features / target.\n",
    "\n",
    "Applique les transformations définies dans le préprocesseur.\n",
    "\n",
    "Organise les données dans un DataFrame clair et lisible.\n",
    "\n",
    "Étape clé avant l’entraînement d’un modèle de machine learning"
   ]
  },
  {
   "cell_type": "code",
   "execution_count": 120,
   "id": "ebee174e",
   "metadata": {},
   "outputs": [],
   "source": [
    "from sklearn.model_selection import train_test_split\n",
    "import os\n",
    "\n",
    "output_dir = '../data/processed'\n",
    "os.makedirs(output_dir, exist_ok=True)\n",
    "\n",
    "X_train, X_test, y_train, y_test = train_test_split(\n",
    "    X_transformed, y, test_size=0.2, random_state=42\n",
    ")\n",
    "\n",
    "X_train.to_csv(os.path.join(output_dir, 'X_train.csv'), index=False)\n",
    "y_train.to_csv(os.path.join(output_dir, 'y_train.csv'), index=False)\n",
    "X_test.to_csv(os.path.join(output_dir, 'X_test.csv'), index=False)\n",
    "y_test.to_csv(os.path.join(output_dir, 'y_test.csv'), index=False)"
   ]
  },
  {
   "cell_type": "markdown",
   "id": "e03bcf25",
   "metadata": {},
   "source": [
    "Prépare le dataset pour la modélisation."
   ]
  }
 ],
 "metadata": {
  "kernelspec": {
   "display_name": "base",
   "language": "python",
   "name": "python3"
  },
  "language_info": {
   "codemirror_mode": {
    "name": "ipython",
    "version": 3
   },
   "file_extension": ".py",
   "mimetype": "text/x-python",
   "name": "python",
   "nbconvert_exporter": "python",
   "pygments_lexer": "ipython3",
   "version": "3.12.7"
  }
 },
 "nbformat": 4,
 "nbformat_minor": 5
}
